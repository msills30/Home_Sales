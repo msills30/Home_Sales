{
  "cells": [
    {
      "cell_type": "code",
      "execution_count": 1,
      "metadata": {
        "colab": {
          "base_uri": "https://localhost:8080/"
        },
        "id": "a_KW73O2e3dw",
        "outputId": "b5c5d49c-a1d3-4402-92ec-f496e1c93c69"
      },
      "outputs": [
        {
          "name": "stdout",
          "output_type": "stream",
          "text": [
            "\r0% [Working]\r            \rHit:1 http://archive.ubuntu.com/ubuntu jammy InRelease\n",
            "\r0% [Connecting to security.ubuntu.com (185.125.190.36)] [Connected to cloud.r-p\r                                                                               \rGet:2 http://archive.ubuntu.com/ubuntu jammy-updates InRelease [119 kB]\n",
            "\r0% [2 InRelease 12.7 kB/119 kB 11%] [Waiting for headers] [Waiting for headers]\r                                                                               \rGet:3 https://cloud.r-project.org/bin/linux/ubuntu jammy-cran40/ InRelease [3,626 B]\n",
            "\r0% [2 InRelease 15.6 kB/119 kB 13%] [Waiting for headers] [3 InRelease 3,626 B/\r0% [2 InRelease 15.6 kB/119 kB 13%] [Waiting for headers] [Connected to ppa.lau\r                                                                               \rHit:4 https://developer.download.nvidia.com/compute/cuda/repos/ubuntu2204/x86_64  InRelease\n",
            "\r0% [2 InRelease 27.2 kB/119 kB 23%] [Waiting for headers] [Connected to ppa.lau\r                                                                               \rGet:5 http://security.ubuntu.com/ubuntu jammy-security InRelease [110 kB]\n",
            "Get:6 http://archive.ubuntu.com/ubuntu jammy-backports InRelease [109 kB]\n",
            "Hit:7 https://ppa.launchpadcontent.net/c2d4u.team/c2d4u4.0+/ubuntu jammy InRelease\n",
            "Get:8 http://archive.ubuntu.com/ubuntu jammy-updates/main amd64 Packages [1,136 kB]\n",
            "Get:9 http://archive.ubuntu.com/ubuntu jammy-updates/universe amd64 Packages [1,244 kB]\n",
            "Hit:10 https://ppa.launchpadcontent.net/deadsnakes/ppa/ubuntu jammy InRelease\n",
            "Get:11 http://security.ubuntu.com/ubuntu jammy-security/universe amd64 Packages [983 kB]\n",
            "Get:12 https://ppa.launchpadcontent.net/graphics-drivers/ppa/ubuntu jammy InRelease [24.3 kB]\n",
            "Hit:13 https://ppa.launchpadcontent.net/ubuntugis/ppa/ubuntu jammy InRelease\n",
            "Get:14 https://ppa.launchpadcontent.net/graphics-drivers/ppa/ubuntu jammy/main amd64 Packages [37.1 kB]\n",
            "Fetched 3,765 kB in 2s (1,653 kB/s)\n",
            "Reading package lists... Done\n"
          ]
        }
      ],
      "source": [
        "import os\n",
        "# Find the latest version of spark 3.x  from http://www.apache.org/dist/spark/ and enter as the spark version\n",
        "# For example:\n",
        "# spark_version = 'spark-3.4.0'\n",
        "spark_version = 'spark-3.4.0'\n",
        "os.environ['SPARK_VERSION']=spark_version\n",
        "\n",
        "# Install Spark and Java\n",
        "!apt-get update\n",
        "!apt-get install openjdk-11-jdk-headless -qq > /dev/null\n",
        "!wget -q http://www.apache.org/dist/spark/$SPARK_VERSION/$SPARK_VERSION-bin-hadoop3.tgz\n",
        "!tar xf $SPARK_VERSION-bin-hadoop3.tgz\n",
        "!pip install -q findspark\n",
        "\n",
        "# Set Environment Variables\n",
        "os.environ[\"JAVA_HOME\"] = \"/usr/lib/jvm/java-11-openjdk-amd64\"\n",
        "os.environ[\"SPARK_HOME\"] = f\"/content/{spark_version}-bin-hadoop3\"\n",
        "\n",
        "# Start a SparkSession\n",
        "import findspark\n",
        "findspark.init()"
      ]
    },
    {
      "cell_type": "code",
      "execution_count": 2,
      "metadata": {
        "id": "2XbWNf1Te5fM"
      },
      "outputs": [],
      "source": [
        "# Import packages\n",
        "from pyspark.sql import SparkSession\n",
        "import time\n",
        "\n",
        "# Create a SparkSession\n",
        "spark = SparkSession.builder.appName(\"SparkSQL\").getOrCreate()"
      ]
    },
    {
      "cell_type": "code",
      "execution_count": 3,
      "metadata": {
        "colab": {
          "base_uri": "https://localhost:8080/"
        },
        "id": "wOJqxG_RPSwp",
        "outputId": "8b170b04-d5d3-4693-a0c9-24617c1a6cd6"
      },
      "outputs": [
        {
          "name": "stdout",
          "output_type": "stream",
          "text": [
            "+--------------------+----------+----------+------+--------+---------+-----------+--------+------+----------+----+\n",
            "|                  id|      date|date_built| price|bedrooms|bathrooms|sqft_living|sqft_lot|floors|waterfront|view|\n",
            "+--------------------+----------+----------+------+--------+---------+-----------+--------+------+----------+----+\n",
            "|f8a53099-ba1c-47d...|2022-04-08|      2016|936923|       4|        3|       3167|   11733|     2|         1|  76|\n",
            "|7530a2d8-1ae3-451...|2021-06-13|      2013|379628|       2|        2|       2235|   14384|     1|         0|  23|\n",
            "|43de979c-0bf0-4c9...|2019-04-12|      2014|417866|       2|        2|       2127|   10575|     2|         0|   0|\n",
            "|b672c137-b88c-48b...|2019-10-16|      2016|239895|       2|        2|       1631|   11149|     2|         0|   0|\n",
            "|e0726d4d-d595-407...|2022-01-08|      2017|424418|       3|        2|       2249|   13878|     2|         0|   4|\n",
            "|5aa00529-0533-46b...|2019-01-30|      2017|218712|       2|        3|       1965|   14375|     2|         0|   7|\n",
            "|131492a1-72e2-4a8...|2020-02-08|      2017|419199|       2|        3|       2062|    8876|     2|         0|   6|\n",
            "|8d54a71b-c520-44e...|2019-07-21|      2010|323956|       2|        3|       1506|   11816|     1|         0|  25|\n",
            "|e81aacfe-17fe-46b...|2020-06-16|      2016|181925|       3|        3|       2137|   11709|     2|         0|  22|\n",
            "|2ed8d509-7372-46d...|2021-08-06|      2015|258710|       3|        3|       1918|    9666|     1|         0|  25|\n",
            "|f876d86f-3c9f-42b...|2019-02-27|      2011|167864|       3|        3|       2471|   13924|     2|         0|  15|\n",
            "|0a2bd445-8508-4d8...|2021-12-30|      2014|337527|       2|        3|       1926|   12556|     1|         0|  23|\n",
            "|941bad30-eb49-4a7...|2020-05-09|      2015|229896|       3|        3|       2197|    8641|     1|         0|   3|\n",
            "|dd61eb34-6589-4c0...|2021-07-25|      2016|210247|       3|        2|       1672|   11986|     2|         0|  28|\n",
            "|f1e4cef7-d151-439...|2019-02-01|      2011|398667|       2|        3|       2331|   11356|     1|         0|   7|\n",
            "|ea620c7b-c2f7-4c6...|2021-05-31|      2011|437958|       3|        3|       2356|   11052|     1|         0|  26|\n",
            "|f233cb41-6f33-4b0...|2021-07-18|      2016|437375|       4|        3|       1704|   11721|     2|         0|  34|\n",
            "|c797ca12-52cd-4b1...|2019-06-08|      2015|288650|       2|        3|       2100|   10419|     2|         0|   7|\n",
            "|0cfe57f3-28c2-472...|2019-10-04|      2015|308313|       3|        3|       1960|    9453|     2|         0|   2|\n",
            "|4566cd2a-ac6e-435...|2019-07-15|      2016|177541|       3|        3|       2130|   10517|     2|         0|  25|\n",
            "+--------------------+----------+----------+------+--------+---------+-----------+--------+------+----------+----+\n",
            "only showing top 20 rows\n",
            "\n"
          ]
        }
      ],
      "source": [
        "# 1. Read in the AWS S3 bucket into a DataFrame.\n",
        "from pyspark import SparkFiles\n",
        "url = \"https://2u-data-curriculum-team.s3.amazonaws.com/dataviz-classroom/v1.2/22-big-data/home_sales_revised.csv\"\n",
        "spark.sparkContext.addFile(url)\n",
        "home_df = spark.read.csv(SparkFiles.get(\"home_sales_revised.csv\"), sep=\",\", header=True)\n",
        "home_df.show()"
      ]
    },
    {
      "cell_type": "code",
      "execution_count": 4,
      "metadata": {
        "id": "RoljcJ7WPpnm"
      },
      "outputs": [],
      "source": [
        "# 2. Create a temporary view of the DataFrame.\n",
        "\n",
        "home_df.createOrReplaceTempView('home')"
      ]
    },
    {
      "cell_type": "code",
      "execution_count": 5,
      "metadata": {
        "colab": {
          "base_uri": "https://localhost:8080/"
        },
        "id": "L6fkwOeOmqvq",
        "outputId": "b9c5157e-d967-452b-f3f7-d49aacbb16f5"
      },
      "outputs": [
        {
          "name": "stdout",
          "output_type": "stream",
          "text": [
            "+----------+----------------+\n",
            "|      date|AVG_Four_Bedroom|\n",
            "+----------+----------------+\n",
            "|2020-04-13|        303153.3|\n",
            "|2020-02-26|        295492.0|\n",
            "|2019-08-22|        331777.3|\n",
            "|2019-08-08|       305486.56|\n",
            "|2021-11-03|       279481.33|\n",
            "|2019-08-23|       273917.83|\n",
            "|2020-06-24|       363142.22|\n",
            "|2019-09-29|        286234.2|\n",
            "|2021-12-23|        263829.0|\n",
            "|2019-08-31|       367088.29|\n",
            "|2019-04-25|       240981.75|\n",
            "|2020-06-08|        269630.0|\n",
            "|2020-11-12|       314268.22|\n",
            "|2021-04-06|       250681.71|\n",
            "|2022-05-17|       279781.33|\n",
            "|2020-09-12|       265752.09|\n",
            "|2022-03-30|        273248.0|\n",
            "|2019-01-17|       333439.09|\n",
            "|2021-08-30|        363022.0|\n",
            "|2019-04-26|       318184.93|\n",
            "+----------+----------------+\n",
            "only showing top 20 rows\n",
            "\n"
          ]
        }
      ],
      "source": [
        "# 3. What is the average price for a four bedroom house sold in each year rounded to two decimal places?\n",
        "home_avg=spark.sql(\"\"\"\n",
        "          SELECT date,\n",
        "          ROUND(AVG(price),2)\n",
        "          as AVG_Four_Bedroom\n",
        "          FROM home\n",
        "          WHERE bedrooms = 4\n",
        "          GROUP BY date\n",
        "          \"\"\")\n",
        "home_avg.show()\n"
      ]
    },
    {
      "cell_type": "code",
      "execution_count": 6,
      "metadata": {
        "colab": {
          "base_uri": "https://localhost:8080/"
        },
        "id": "l8p_tUS8h8it",
        "outputId": "d86aab7c-9737-4180-de84-ebc08afe8441"
      },
      "outputs": [
        {
          "name": "stdout",
          "output_type": "stream",
          "text": [
            "+----------+--------------------+\n",
            "|      date|AVG_Three_Beds_Baths|\n",
            "+----------+--------------------+\n",
            "|2019-08-23|            304089.5|\n",
            "|2021-11-03|            370813.8|\n",
            "|2020-04-13|            298782.0|\n",
            "|2020-02-26|           237994.75|\n",
            "|2019-08-22|            288818.5|\n",
            "|2019-08-08|            380345.2|\n",
            "|2021-12-23|           588392.75|\n",
            "|2019-04-25|            316485.6|\n",
            "|2019-09-29|           280435.13|\n",
            "|2020-06-24|            271525.5|\n",
            "|2019-08-31|            255717.0|\n",
            "|2020-09-12|            449314.0|\n",
            "|2020-06-08|            251318.4|\n",
            "|2021-04-06|           506720.67|\n",
            "|2022-05-17|           301401.25|\n",
            "|2020-11-12|            143575.5|\n",
            "|2021-10-25|           329296.14|\n",
            "|2020-06-22|           249791.25|\n",
            "|2019-04-26|            289360.5|\n",
            "|2020-01-05|           296966.71|\n",
            "+----------+--------------------+\n",
            "only showing top 20 rows\n",
            "\n"
          ]
        }
      ],
      "source": [
        "# 4. What is the average price of a home for each year the home was built that have 3 bedrooms and 3 bathrooms rounded to two decimal places?\n",
        "home_avg=spark.sql(\"\"\"\n",
        "          SELECT date,\n",
        "          ROUND(AVG(price),2)\n",
        "          as AVG_Three_Beds_Baths\n",
        "          FROM home\n",
        "          WHERE bedrooms = 3 AND bathrooms = 3\n",
        "          GROUP BY date\n",
        "          \"\"\")\n",
        "home_avg.show()"
      ]
    },
    {
      "cell_type": "code",
      "execution_count": 7,
      "metadata": {
        "colab": {
          "base_uri": "https://localhost:8080/"
        },
        "id": "Y-Eytz64liDU",
        "outputId": "4e59394d-b94d-4b29-f9ae-11a83380b58c"
      },
      "outputs": [
        {
          "name": "stdout",
          "output_type": "stream",
          "text": [
            "+----------+-------------------------------+\n",
            "|      date|AVG_Three_Beds_Baths_Two_Floors|\n",
            "+----------+-------------------------------+\n",
            "|2021-11-03|                      420228.67|\n",
            "|2020-04-13|                       338753.5|\n",
            "|2020-02-26|                       189833.5|\n",
            "|2019-08-08|                       437130.0|\n",
            "|2019-08-22|                       175293.5|\n",
            "|2019-08-23|                       409256.0|\n",
            "|2019-09-29|                       188812.0|\n",
            "|2019-04-25|                       300957.0|\n",
            "|2019-08-31|                       255717.0|\n",
            "|2020-06-24|                       345325.0|\n",
            "|2021-12-23|                       287120.0|\n",
            "|2020-06-08|                       238142.5|\n",
            "|2020-09-12|                       430663.0|\n",
            "|2022-05-17|                       351764.0|\n",
            "|2021-10-25|                      344264.67|\n",
            "|2019-04-26|                       289360.5|\n",
            "|2020-01-05|                      306027.33|\n",
            "|2022-03-30|                       223058.0|\n",
            "|2019-01-17|                       286324.6|\n",
            "|2021-02-18|                       351566.0|\n",
            "+----------+-------------------------------+\n",
            "only showing top 20 rows\n",
            "\n"
          ]
        }
      ],
      "source": [
        "# 5. What is the average price of a home for each year built that have 3 bedrooms, 3 bathrooms, with two floors,\n",
        "# and are greater than or equal to 2,000 square feet rounded to two decimal places?\n",
        "\n",
        "home_avg=spark.sql(\"\"\"\n",
        "          SELECT date, ROUND(AVG(price),2) as AVG_Three_Beds_Baths_Two_Floors\n",
        "          FROM home\n",
        "          WHERE bedrooms = 3 AND bathrooms = 3 AND floors = 2\n",
        "          GROUP BY date\n",
        "          \"\"\")\n",
        "home_avg.show()"
      ]
    },
    {
      "cell_type": "code",
      "execution_count": 8,
      "metadata": {
        "colab": {
          "base_uri": "https://localhost:8080/"
        },
        "id": "GUrfgOX1pCRd",
        "outputId": "1268d9a0-aea8-4221-b4d2-ca29f64d0c1a"
      },
      "outputs": [
        {
          "name": "stdout",
          "output_type": "stream",
          "text": [
            "+----+--------------+\n",
            "|view|AVG_Price_View|\n",
            "+----+--------------+\n",
            "|   7|     403005.77|\n",
            "|  51|     788128.21|\n",
            "|  15|      404673.3|\n",
            "|  54|     798684.82|\n",
            "|  11|     399548.12|\n",
            "|  29|     397771.65|\n",
            "|  69|     750537.94|\n",
            "|  42|      396964.5|\n",
            "|  87|     1072285.2|\n",
            "|  73|     752861.18|\n",
            "|  64|     767036.67|\n",
            "|   3|      398867.6|\n",
            "|  30|      397862.0|\n",
            "|  34|     401419.75|\n",
            "|  59|      791453.0|\n",
            "|   8|     398592.71|\n",
            "|  28|     402124.62|\n",
            "|  22|     402022.68|\n",
            "|  85|    1056336.74|\n",
            "|  16|     399586.53|\n",
            "+----+--------------+\n",
            "only showing top 20 rows\n",
            "\n",
            "--- 0.8769650459289551 seconds ---\n"
          ]
        }
      ],
      "source": [
        "# 6. What is the \"view\" rating for the average price of a home, rounded to two decimal places, where the homes are greater than\n",
        "# or equal to $350,000? Although this is a small dataset, determine the run time for this query.\n",
        "\n",
        "start_time = time.time()\n",
        "\n",
        "home_avg=spark.sql(\"\"\"\n",
        "          SELECT view, ROUND(AVG(price),2) as AVG_Price_View\n",
        "          FROM home\n",
        "          WHERE price >= 350000\n",
        "          GROUP BY view\n",
        "          \"\"\")\n",
        "home_avg.show()\n",
        "\n",
        "print(\"--- %s seconds ---\" % (time.time() - start_time))"
      ]
    },
    {
      "cell_type": "code",
      "execution_count": 9,
      "metadata": {
        "colab": {
          "base_uri": "https://localhost:8080/"
        },
        "id": "KAhk3ZD2tFy8",
        "outputId": "59e43d94-76d3-489e-e61c-0e3b327c1a13"
      },
      "outputs": [
        {
          "data": {
            "text/plain": [
              "DataFrame[]"
            ]
          },
          "execution_count": 9,
          "metadata": {},
          "output_type": "execute_result"
        }
      ],
      "source": [
        "# 7. Cache the the temporary table home_sales.\n",
        "spark.sql(\"cache table home\")"
      ]
    },
    {
      "cell_type": "code",
      "execution_count": 10,
      "metadata": {
        "colab": {
          "base_uri": "https://localhost:8080/"
        },
        "id": "4opVhbvxtL-i",
        "outputId": "a28f5903-94ec-4e19-c108-05be7aae67c0"
      },
      "outputs": [
        {
          "data": {
            "text/plain": [
              "True"
            ]
          },
          "execution_count": 10,
          "metadata": {},
          "output_type": "execute_result"
        }
      ],
      "source": [
        "# 8. Check if the table is cached.\n",
        "spark.catalog.isCached('home')"
      ]
    },
    {
      "cell_type": "code",
      "execution_count": 12,
      "metadata": {
        "colab": {
          "base_uri": "https://localhost:8080/"
        },
        "id": "5GnL46lwTSEk",
        "outputId": "96db2800-3a05-4f0d-e16d-503e9660390a"
      },
      "outputs": [
        {
          "name": "stdout",
          "output_type": "stream",
          "text": [
            "+----+--------------+\n",
            "|view|AVG_Price_View|\n",
            "+----+--------------+\n",
            "|   7|     403005.77|\n",
            "|  51|     788128.21|\n",
            "|  15|      404673.3|\n",
            "|  54|     798684.82|\n",
            "|  11|     399548.12|\n",
            "|  29|     397771.65|\n",
            "|  69|     750537.94|\n",
            "|  42|      396964.5|\n",
            "|  87|     1072285.2|\n",
            "|  73|     752861.18|\n",
            "|  64|     767036.67|\n",
            "|   3|      398867.6|\n",
            "|  30|      397862.0|\n",
            "|  34|     401419.75|\n",
            "|  59|      791453.0|\n",
            "|   8|     398592.71|\n",
            "|  28|     402124.62|\n",
            "|  22|     402022.68|\n",
            "|  85|    1056336.74|\n",
            "|  16|     399586.53|\n",
            "+----+--------------+\n",
            "only showing top 20 rows\n",
            "\n",
            "--- 0.5778729915618896 seconds ---\n"
          ]
        }
      ],
      "source": [
        "# 9. Using the cached data, run the query that filters out the view ratings with average price\n",
        "#  greater than or equal to $350,000. Determine the runtime and compare it to uncached runtime.\n",
        "\n",
        "start_time = time.time()\n",
        "\n",
        "spark.sql(\"\"\"\n",
        "SELECT view,\n",
        "ROUND(AVG(price),2)\n",
        "as AVG_Price_View\n",
        "FROM home\n",
        "WHERE price >= 350000\n",
        "GROUP BY view\n",
        "\"\"\").show()\n",
        "\n",
        "print(\"--- %s seconds ---\" % (time.time() - start_time))\n"
      ]
    },
    {
      "cell_type": "code",
      "execution_count": 14,
      "metadata": {
        "id": "Qm12WN9isHBR"
      },
      "outputs": [],
      "source": [
        "# 10. Partition by the \"date_built\" field on the formatted parquet home sales data\n",
        "home_df.write.parquet('date_built',mode='overwrite')"
      ]
    },
    {
      "cell_type": "code",
      "execution_count": 15,
      "metadata": {
        "id": "AZ7BgY61sRqY"
      },
      "outputs": [],
      "source": [
        "# 11. Read the parquet formatted data.\n",
        "p_df=spark.read.parquet('date_built')"
      ]
    },
    {
      "cell_type": "code",
      "execution_count": null,
      "metadata": {
        "id": "J6MJkHfvVcvh"
      },
      "outputs": [],
      "source": [
        "# 12. Create a temporary table for the parquet data.\n",
        "p_df.createOrReplaceTempView('date_built')"
      ]
    },
    {
      "cell_type": "code",
      "execution_count": 16,
      "metadata": {
        "colab": {
          "base_uri": "https://localhost:8080/"
        },
        "id": "G_Vhb52rU1Sn",
        "outputId": "b0b5b7ca-666b-4dca-ca6b-bf7816fce7b2"
      },
      "outputs": [
        {
          "name": "stdout",
          "output_type": "stream",
          "text": [
            "+----+--------------+\n",
            "|view|AVG_Price_View|\n",
            "+----+--------------+\n",
            "|   7|     403005.77|\n",
            "|  51|     788128.21|\n",
            "|  15|      404673.3|\n",
            "|  54|     798684.82|\n",
            "|  11|     399548.12|\n",
            "|  29|     397771.65|\n",
            "|  69|     750537.94|\n",
            "|  42|      396964.5|\n",
            "|  87|     1072285.2|\n",
            "|  73|     752861.18|\n",
            "|  64|     767036.67|\n",
            "|   3|      398867.6|\n",
            "|  30|      397862.0|\n",
            "|  34|     401419.75|\n",
            "|  59|      791453.0|\n",
            "|   8|     398592.71|\n",
            "|  28|     402124.62|\n",
            "|  22|     402022.68|\n",
            "|  85|    1056336.74|\n",
            "|  16|     399586.53|\n",
            "+----+--------------+\n",
            "only showing top 20 rows\n",
            "\n",
            "--- 0.6242365837097168 seconds ---\n"
          ]
        }
      ],
      "source": [
        "# 13. Run the query that filters out the view ratings with average price of greater than or equal to $350,000\n",
        "# with the parquet DataFrame. Round your average to two decimal places.\n",
        "# Determine the runtime and compare it to the cached version.\n",
        "\n",
        "start_time = time.time()\n",
        "spark.sql(\"\"\"\n",
        "SELECT view,\n",
        "ROUND(AVG(price),2)\n",
        "as AVG_Price_View\n",
        "FROM home\n",
        "WHERE price >= 350000\n",
        "GROUP BY view\n",
        "\"\"\").show()\n",
        "\n",
        "\n",
        "print(\"--- %s seconds ---\" % (time.time() - start_time))"
      ]
    },
    {
      "cell_type": "code",
      "execution_count": 17,
      "metadata": {
        "colab": {
          "base_uri": "https://localhost:8080/"
        },
        "id": "hjjYzQGjtbq8",
        "outputId": "72531709-5702-4df4-a6e3-332828538d98"
      },
      "outputs": [
        {
          "data": {
            "text/plain": [
              "DataFrame[]"
            ]
          },
          "execution_count": 17,
          "metadata": {},
          "output_type": "execute_result"
        }
      ],
      "source": [
        "# 14. Uncache the home_sales temporary table.\n",
        "spark.sql(\"uncache table home\")"
      ]
    },
    {
      "cell_type": "code",
      "execution_count": 18,
      "metadata": {
        "colab": {
          "base_uri": "https://localhost:8080/"
        },
        "id": "Sy9NBvO7tlmm",
        "outputId": "2b97e8d4-3d5c-4a03-8471-f987a53a810c"
      },
      "outputs": [
        {
          "data": {
            "text/plain": [
              "False"
            ]
          },
          "execution_count": 18,
          "metadata": {},
          "output_type": "execute_result"
        }
      ],
      "source": [
        "# 15. Check if the home_sales is no longer cached\n",
        "spark.catalog.isCached(\"home\")\n"
      ]
    },
    {
      "cell_type": "code",
      "execution_count": null,
      "metadata": {
        "id": "Si-BNruRUGK3"
      },
      "outputs": [],
      "source": []
    }
  ],
  "metadata": {
    "colab": {
      "provenance": []
    },
    "gpuClass": "standard",
    "kernelspec": {
      "display_name": "Python 3 (ipykernel)",
      "language": "python",
      "name": "python3"
    },
    "language_info": {
      "codemirror_mode": {
        "name": "ipython",
        "version": 3
      },
      "file_extension": ".py",
      "mimetype": "text/x-python",
      "name": "python",
      "nbconvert_exporter": "python",
      "pygments_lexer": "ipython3",
      "version": "3.10.4"
    },
    "nteract": {
      "version": "0.28.0"
    }
  },
  "nbformat": 4,
  "nbformat_minor": 0
}
